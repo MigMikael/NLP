{
 "cells": [
  {
   "cell_type": "code",
   "execution_count": 1,
   "metadata": {},
   "outputs": [
    {
     "name": "stdout",
     "output_type": "stream",
     "text": [
      "['e', ',', '.', 's', 'd', 't', 'he', 'n', 'a', 'of', 'the', 'y', 'r', 'to', 'in', 'f', 'o', 'ed', 'nd', 'is', 'on', 'l', 'g', 'and', 'ng', 'er', 'as', 'ing', 'h', 'at', 'es', 'or', 're', 'it', '``', 'an', \"''\", 'm', ';', 'i', 'ly', 'ion', 'en', 'al', '?', 'nt', 'be', 'hat', 'st', 'his', 'th', 'll', 'le', 'ce', 'by', 'ts', 'me', 've', \"'\", 'se', 'ut', 'was', 'for', 'ent', 'ch', 'k', 'w', 'ld', '`', 'rs', 'ted', 'ere', 'her', 'ne', 'ns', 'ith', 'ad', 'ry', ')', '(', 'te', '--', 'ay', 'ty', 'ot', 'p', 'nce', \"'s\", 'ter', 'om', 'ss', ':', 'we', 'are', 'c', 'ers', 'uld', 'had', 'so', 'ey']\n"
     ]
    }
   ],
   "source": [
    "import nltk\n",
    "from nltk.corpus import brown\n",
    "\n",
    "suffix_fdist = nltk.FreqDist()\n",
    "for word in brown.words():\n",
    "    word = word.lower()\n",
    "    suffix_fdist[word[-1:]] += 1\n",
    "    suffix_fdist[word[-2:]] += 1\n",
    "    suffix_fdist[word[-3:]] += 1\n",
    "common_suffixes = [suffix for (suffix, count) in suffix_fdist.most_common(100)]\n",
    "print(common_suffixes)"
   ]
  },
  {
   "cell_type": "code",
   "execution_count": 2,
   "metadata": {},
   "outputs": [],
   "source": [
    "def pos_features(word):\n",
    "    features = {}\n",
    "    for suffix in common_suffixes:\n",
    "        features['endswith({})'.format(suffix)] = word.lower().endswith(suffix)\n",
    "    return features"
   ]
  },
  {
   "cell_type": "code",
   "execution_count": 4,
   "metadata": {},
   "outputs": [
    {
     "data": {
      "text/plain": [
       "{\"endswith('')\": False,\n",
       " \"endswith(')\": False,\n",
       " \"endswith('s)\": False,\n",
       " 'endswith(()': False,\n",
       " 'endswith())': False,\n",
       " 'endswith(,)': False,\n",
       " 'endswith(--)': False,\n",
       " 'endswith(.)': False,\n",
       " 'endswith(:)': False,\n",
       " 'endswith(;)': False,\n",
       " 'endswith(?)': False,\n",
       " 'endswith(`)': False,\n",
       " 'endswith(``)': False,\n",
       " 'endswith(a)': False,\n",
       " 'endswith(ad)': False,\n",
       " 'endswith(al)': False,\n",
       " 'endswith(an)': False,\n",
       " 'endswith(and)': False,\n",
       " 'endswith(are)': False,\n",
       " 'endswith(as)': False,\n",
       " 'endswith(at)': False,\n",
       " 'endswith(ay)': False,\n",
       " 'endswith(be)': False,\n",
       " 'endswith(by)': False,\n",
       " 'endswith(c)': False,\n",
       " 'endswith(ce)': False,\n",
       " 'endswith(ch)': False,\n",
       " 'endswith(d)': False,\n",
       " 'endswith(e)': True,\n",
       " 'endswith(ed)': False,\n",
       " 'endswith(en)': False,\n",
       " 'endswith(ent)': False,\n",
       " 'endswith(er)': False,\n",
       " 'endswith(ere)': False,\n",
       " 'endswith(ers)': False,\n",
       " 'endswith(es)': False,\n",
       " 'endswith(ey)': False,\n",
       " 'endswith(f)': False,\n",
       " 'endswith(for)': False,\n",
       " 'endswith(g)': False,\n",
       " 'endswith(h)': False,\n",
       " 'endswith(had)': False,\n",
       " 'endswith(hat)': False,\n",
       " 'endswith(he)': True,\n",
       " 'endswith(her)': False,\n",
       " 'endswith(his)': False,\n",
       " 'endswith(i)': False,\n",
       " 'endswith(in)': False,\n",
       " 'endswith(ing)': False,\n",
       " 'endswith(ion)': False,\n",
       " 'endswith(is)': False,\n",
       " 'endswith(it)': False,\n",
       " 'endswith(ith)': False,\n",
       " 'endswith(k)': False,\n",
       " 'endswith(l)': False,\n",
       " 'endswith(ld)': False,\n",
       " 'endswith(le)': False,\n",
       " 'endswith(ll)': False,\n",
       " 'endswith(ly)': False,\n",
       " 'endswith(m)': False,\n",
       " 'endswith(me)': False,\n",
       " 'endswith(n)': False,\n",
       " 'endswith(nce)': False,\n",
       " 'endswith(nd)': False,\n",
       " 'endswith(ne)': False,\n",
       " 'endswith(ng)': False,\n",
       " 'endswith(ns)': False,\n",
       " 'endswith(nt)': False,\n",
       " 'endswith(o)': False,\n",
       " 'endswith(of)': False,\n",
       " 'endswith(om)': False,\n",
       " 'endswith(on)': False,\n",
       " 'endswith(or)': False,\n",
       " 'endswith(ot)': False,\n",
       " 'endswith(p)': False,\n",
       " 'endswith(r)': False,\n",
       " 'endswith(re)': False,\n",
       " 'endswith(rs)': False,\n",
       " 'endswith(ry)': False,\n",
       " 'endswith(s)': False,\n",
       " 'endswith(se)': False,\n",
       " 'endswith(so)': False,\n",
       " 'endswith(ss)': False,\n",
       " 'endswith(st)': False,\n",
       " 'endswith(t)': False,\n",
       " 'endswith(te)': False,\n",
       " 'endswith(ted)': False,\n",
       " 'endswith(ter)': False,\n",
       " 'endswith(th)': False,\n",
       " 'endswith(the)': True,\n",
       " 'endswith(to)': False,\n",
       " 'endswith(ts)': False,\n",
       " 'endswith(ty)': False,\n",
       " 'endswith(uld)': False,\n",
       " 'endswith(ut)': False,\n",
       " 'endswith(ve)': False,\n",
       " 'endswith(w)': False,\n",
       " 'endswith(was)': False,\n",
       " 'endswith(we)': False,\n",
       " 'endswith(y)': False}"
      ]
     },
     "execution_count": 4,
     "metadata": {},
     "output_type": "execute_result"
    }
   ],
   "source": [
    "pos_features(\"the\")"
   ]
  },
  {
   "cell_type": "code",
   "execution_count": 5,
   "metadata": {},
   "outputs": [],
   "source": [
    "tagged_words = brown.tagged_words(categories='news')"
   ]
  },
  {
   "cell_type": "code",
   "execution_count": 7,
   "metadata": {},
   "outputs": [
    {
     "data": {
      "text/plain": [
       "[('The', 'AT'), ('Fulton', 'NP-TL'), ...]"
      ]
     },
     "execution_count": 7,
     "metadata": {},
     "output_type": "execute_result"
    }
   ],
   "source": [
    "tagged_words"
   ]
  },
  {
   "cell_type": "code",
   "execution_count": 8,
   "metadata": {},
   "outputs": [],
   "source": [
    "featuresets = [(pos_features(n), g) for (n,g) in tagged_words]"
   ]
  },
  {
   "cell_type": "code",
   "execution_count": 9,
   "metadata": {},
   "outputs": [],
   "source": [
    "size = int(len(featuresets) * 0.1)"
   ]
  },
  {
   "cell_type": "code",
   "execution_count": 11,
   "metadata": {},
   "outputs": [
    {
     "name": "stdout",
     "output_type": "stream",
     "text": [
      "100554\n",
      "10055\n"
     ]
    }
   ],
   "source": [
    "print(len(featuresets))\n",
    "print(size)"
   ]
  },
  {
   "cell_type": "code",
   "execution_count": 12,
   "metadata": {},
   "outputs": [],
   "source": [
    "train_set, test_set = featuresets[size:], featuresets[:size]\n",
    "classifier = nltk.DecisionTreeClassifier.train(train_set)"
   ]
  },
  {
   "cell_type": "code",
   "execution_count": 13,
   "metadata": {},
   "outputs": [
    {
     "name": "stdout",
     "output_type": "stream",
     "text": [
      "NNS\n"
     ]
    }
   ],
   "source": [
    "print(classifier.classify(pos_features('cats')))"
   ]
  },
  {
   "cell_type": "code",
   "execution_count": 14,
   "metadata": {},
   "outputs": [
    {
     "name": "stdout",
     "output_type": "stream",
     "text": [
      "0.6270512182993535\n"
     ]
    }
   ],
   "source": [
    "print(nltk.classify.accuracy(classifier, test_set))"
   ]
  },
  {
   "cell_type": "code",
   "execution_count": 15,
   "metadata": {},
   "outputs": [
    {
     "name": "stdout",
     "output_type": "stream",
     "text": [
      "if endswith(the) == False: \n",
      "  if endswith(,) == False: \n",
      "    if endswith(s) == False: \n",
      "      if endswith(.) == False: return '.'\n",
      "      if endswith(.) == True: return '.'\n",
      "    if endswith(s) == True: \n",
      "      if endswith(is) == False: return 'PP$'\n",
      "      if endswith(is) == True: return 'BEZ'\n",
      "  if endswith(,) == True: return ','\n",
      "if endswith(the) == True: return 'AT'\n",
      "\n"
     ]
    }
   ],
   "source": [
    "print(classifier.pseudocode(depth=4))"
   ]
  },
  {
   "cell_type": "code",
   "execution_count": null,
   "metadata": {},
   "outputs": [],
   "source": []
  }
 ],
 "metadata": {
  "kernelspec": {
   "display_name": "Python 3",
   "language": "python",
   "name": "python3"
  },
  "language_info": {
   "codemirror_mode": {
    "name": "ipython",
    "version": 3
   },
   "file_extension": ".py",
   "mimetype": "text/x-python",
   "name": "python",
   "nbconvert_exporter": "python",
   "pygments_lexer": "ipython3",
   "version": "3.6.4"
  }
 },
 "nbformat": 4,
 "nbformat_minor": 2
}

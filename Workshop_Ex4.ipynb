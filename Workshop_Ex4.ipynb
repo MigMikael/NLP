{
 "cells": [
  {
   "cell_type": "markdown",
   "metadata": {
    "colab_type": "text",
    "id": "AtbSXSNiuPpJ"
   },
   "source": [
    "# Ex.4 Part-of-Speech Tagging  (Suffixs)"
   ]
  },
  {
   "cell_type": "markdown",
   "metadata": {
    "colab_type": "text",
    "id": "OccFyph5Jo8E"
   },
   "source": [
    "**หลักการ**\n",
    "1.   หาคำที่ลงท้ายบ่อยๆ (common_suffixes)\n",
    "2.   เอาคำที่เรารู้ Tag มาดูว่าดูว่าลงท้ายด้วย common_suffixes ตัวไหนบ้าง เป็น Features Set \n",
    "1.   แบ่ง Feature set  ไป Train Model และ Test Model\n",
    "2.   หา accuracy\n",
    "1.   ทำความเข้าใจการตัดสินใจของ Model\n",
    "\n",
    "\n",
    "\n",
    "\n",
    "\n",
    "\n"
   ]
  },
  {
   "cell_type": "markdown",
   "metadata": {
    "colab_type": "text",
    "id": "TW3BdSnZLfkT"
   },
   "source": [
    "### Finding out what the most common suffixes are:"
   ]
  },
  {
   "cell_type": "code",
   "execution_count": 2,
   "metadata": {
    "colab": {
     "autoexec": {
      "startup": false,
      "wait_interval": 0
     },
     "base_uri": "https://localhost:8080/",
     "height": 88
    },
    "colab_type": "code",
    "executionInfo": {
     "elapsed": 9605,
     "status": "ok",
     "timestamp": 1525326149835,
     "user": {
      "displayName": "Kantinee Kat.",
      "photoUrl": "//lh3.googleusercontent.com/-cTx6FLLpB3o/AAAAAAAAAAI/AAAAAAAAHxE/6Q7cfvbHQJ0/s50-c-k-no/photo.jpg",
      "userId": "112728143482467190932"
     },
     "user_tz": -420
    },
    "id": "iZT3PVkmuLPL",
    "outputId": "6ea1e591-3813-42d0-866c-cea50d9d11e0"
   },
   "outputs": [
    {
     "name": "stdout",
     "output_type": "stream",
     "text": [
      "[nltk_data] Downloading package brown to /content/nltk_data...\n",
      "[nltk_data]   Unzipping corpora/brown.zip.\n",
      "['e', ',', '.', 's', 'd', 't', 'he', 'n', 'a', 'of', 'the', 'y', 'r', 'to', 'in', 'f', 'o', 'ed', 'nd', 'is', 'on', 'l', 'g', 'and', 'ng', 'er', 'as', 'ing', 'h', 'at', 'es', 'or', 're', 'it', '``', 'an', \"''\", 'm', ';', 'i', 'ly', 'ion', 'en', 'al', '?', 'nt', 'be', 'hat', 'st', 'his', 'th', 'll', 'le', 'ce', 'by', 'ts', 'me', 've', \"'\", 'se', 'ut', 'was', 'for', 'ent', 'ch', 'k', 'w', 'ld', '`', 'rs', 'ted', 'ere', 'her', 'ne', 'ns', 'ith', 'ad', 'ry', ')', '(', 'te', '--', 'ay', 'ty', 'ot', 'p', 'nce', \"'s\", 'ter', 'om', 'ss', ':', 'we', 'are', 'c', 'ers', 'uld', 'had', 'so', 'ey']\n"
     ]
    }
   ],
   "source": [
    "import nltk\n",
    "nltk.download('brown')\n",
    "from nltk.corpus import brown\n",
    "suffix_fdist = nltk.FreqDist()\n",
    "for word in brown.words():\n",
    "    word = word.lower()\n",
    "    suffix_fdist[word[-1:]] += 1\n",
    "    suffix_fdist[word[-2:]] += 1\n",
    "    suffix_fdist[word[-3:]] += 1\n",
    "common_suffixes = [suffix for (suffix, count) in suffix_fdist.most_common(100)]\n",
    "print(common_suffixes)"
   ]
  },
  {
   "cell_type": "markdown",
   "metadata": {
    "colab_type": "text",
    "id": "68ac2Y5aMRwz"
   },
   "source": [
    "### Define a feature extractor function which checks a given word for these common suffixes"
   ]
  },
  {
   "cell_type": "code",
   "execution_count": 0,
   "metadata": {
    "colab": {
     "autoexec": {
      "startup": false,
      "wait_interval": 0
     }
    },
    "colab_type": "code",
    "id": "oLch_151LhHK"
   },
   "outputs": [],
   "source": [
    "def pos_features(word):\n",
    "    features = {}\n",
    "    for suffix in common_suffixes:\n",
    "        features['endswith({})'.format(suffix)] = word.lower().endswith(suffix)\n",
    "    return features\n",
    "  \n",
    "tagged_words = brown.tagged_words(categories='news')\n",
    "featuresets = [(pos_features(n), g) for (n,g) in tagged_words]"
   ]
  },
  {
   "cell_type": "markdown",
   "metadata": {
    "colab_type": "text",
    "id": "3Lv_QVoCMtFo"
   },
   "source": [
    "### Train a new \"decision tree\" classifier"
   ]
  },
  {
   "cell_type": "code",
   "execution_count": 0,
   "metadata": {
    "colab": {
     "autoexec": {
      "startup": false,
      "wait_interval": 0
     }
    },
    "colab_type": "code",
    "id": "y4D4hkvoLsyK"
   },
   "outputs": [],
   "source": [
    "size = int(len(featuresets) * 0.1)\n",
    "train_set, test_set = featuresets[size:], featuresets[:size]\n",
    "classifier = nltk.DecisionTreeClassifier.train(train_set)"
   ]
  },
  {
   "cell_type": "markdown",
   "metadata": {
    "colab_type": "text",
    "id": "pKoaQsfONUvQ"
   },
   "source": [
    "### Test and Evaluate"
   ]
  },
  {
   "cell_type": "code",
   "execution_count": 5,
   "metadata": {
    "colab": {
     "autoexec": {
      "startup": false,
      "wait_interval": 0
     },
     "base_uri": "https://localhost:8080/",
     "height": 34
    },
    "colab_type": "code",
    "executionInfo": {
     "elapsed": 991,
     "status": "ok",
     "timestamp": 1525327356152,
     "user": {
      "displayName": "Kantinee Kat.",
      "photoUrl": "//lh3.googleusercontent.com/-cTx6FLLpB3o/AAAAAAAAAAI/AAAAAAAAHxE/6Q7cfvbHQJ0/s50-c-k-no/photo.jpg",
      "userId": "112728143482467190932"
     },
     "user_tz": -420
    },
    "id": "JaIMLNvTLw8K",
    "outputId": "45d2a705-4a8e-4767-ba8d-b8b2d7e97d6a"
   },
   "outputs": [
    {
     "name": "stdout",
     "output_type": "stream",
     "text": [
      "NNS\n"
     ]
    }
   ],
   "source": [
    "print(classifier.classify(pos_features('cats')))"
   ]
  },
  {
   "cell_type": "code",
   "execution_count": 6,
   "metadata": {
    "colab": {
     "autoexec": {
      "startup": false,
      "wait_interval": 0
     },
     "base_uri": "https://localhost:8080/",
     "height": 34
    },
    "colab_type": "code",
    "executionInfo": {
     "elapsed": 785,
     "status": "ok",
     "timestamp": 1525327356978,
     "user": {
      "displayName": "Kantinee Kat.",
      "photoUrl": "//lh3.googleusercontent.com/-cTx6FLLpB3o/AAAAAAAAAAI/AAAAAAAAHxE/6Q7cfvbHQJ0/s50-c-k-no/photo.jpg",
      "userId": "112728143482467190932"
     },
     "user_tz": -420
    },
    "id": "uOJxHdWMLwEZ",
    "outputId": "1d1b97ac-c55f-4dc1-af6e-fdd4f52de12c"
   },
   "outputs": [
    {
     "name": "stdout",
     "output_type": "stream",
     "text": [
      "0.6270512182993535\n"
     ]
    }
   ],
   "source": [
    "print(nltk.classify.accuracy(classifier, test_set))"
   ]
  },
  {
   "cell_type": "markdown",
   "metadata": {
    "colab_type": "text",
    "id": "vMn7qNYCNdkA"
   },
   "source": [
    "### How model works"
   ]
  },
  {
   "cell_type": "code",
   "execution_count": 10,
   "metadata": {
    "colab": {
     "autoexec": {
      "startup": false,
      "wait_interval": 0
     },
     "base_uri": "https://localhost:8080/",
     "height": 204
    },
    "colab_type": "code",
    "executionInfo": {
     "elapsed": 806,
     "status": "ok",
     "timestamp": 1525327524849,
     "user": {
      "displayName": "Kantinee Kat.",
      "photoUrl": "//lh3.googleusercontent.com/-cTx6FLLpB3o/AAAAAAAAAAI/AAAAAAAAHxE/6Q7cfvbHQJ0/s50-c-k-no/photo.jpg",
      "userId": "112728143482467190932"
     },
     "user_tz": -420
    },
    "id": "5otnZCxBLzjB",
    "outputId": "3467de76-0507-4c8e-f782-0c7e2ceac94b"
   },
   "outputs": [
    {
     "name": "stdout",
     "output_type": "stream",
     "text": [
      "if endswith(the) == False: \n",
      "  if endswith(,) == False: \n",
      "    if endswith(s) == False: \n",
      "      if endswith(.) == False: return '.'\n",
      "      if endswith(.) == True: return '.'\n",
      "    if endswith(s) == True: \n",
      "      if endswith(is) == False: return 'PP$'\n",
      "      if endswith(is) == True: return 'BEZ'\n",
      "  if endswith(,) == True: return ','\n",
      "if endswith(the) == True: return 'AT'\n",
      "\n"
     ]
    }
   ],
   "source": [
    "print(classifier.pseudocode(depth=4))"
   ]
  },
  {
   "cell_type": "markdown",
   "metadata": {
    "colab_type": "text",
    "id": "LDTiCpQ2M64y"
   },
   "source": [
    "Here, we can see that the classifier begins by checking whether a word ends with a comma — if so, then it will receive the special tag \",\". Next, the\n",
    "classifier checks if the word ends in \"the\", in which case it's almost certainly a determiner. This \"suffix\" gets used early by the decision tree because\n",
    "the word \"the\" is so common. Continuing on, the classifier checks if the word ends in \"s\". If so, then it's most likely to receive the verb tag VBZ (unless\n",
    "it's the word \"is\", which has a special tag BEZ), and if not, then it's most likely a noun (unless it's the punctuation mark \".\"). The actual classifier\n",
    "contains further nested if-then statements below the ones shown here, but the depth=4 argument just displays the top portion of the decision tree."
   ]
  }
 ],
 "metadata": {
  "colab": {
   "collapsed_sections": [],
   "default_view": {},
   "name": "Workshop_Ex4.ipynb",
   "provenance": [],
   "version": "0.3.2",
   "views": {}
  },
  "kernelspec": {
   "display_name": "Python 3",
   "language": "python",
   "name": "python3"
  },
  "language_info": {
   "codemirror_mode": {
    "name": "ipython",
    "version": 3
   },
   "file_extension": ".py",
   "mimetype": "text/x-python",
   "name": "python",
   "nbconvert_exporter": "python",
   "pygments_lexer": "ipython3",
   "version": "3.6.4"
  }
 },
 "nbformat": 4,
 "nbformat_minor": 1
}

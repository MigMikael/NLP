{
 "cells": [
  {
   "cell_type": "markdown",
   "metadata": {
    "colab_type": "text",
    "id": "oT2p_Z9wPFxA"
   },
   "source": [
    "# Ex.5 Part-of-Speech Tagging (Context & Suffixs)"
   ]
  },
  {
   "cell_type": "markdown",
   "metadata": {
    "colab_type": "text",
    "id": "PUxSz0DwOyKI"
   },
   "source": [
    "A part-of-speech classifier whose feature detector examines the context in which a\n",
    "word appears in order to determine which part of speech tag should be assigned. In particular, the identity of the previous word is included\n",
    "as a feature. "
   ]
  },
  {
   "cell_type": "markdown",
   "metadata": {
    "colab_type": "text",
    "id": "zIE2G6LUQBs4"
   },
   "source": [
    "เพิ่มเอา context คำก่อนหน้า features[\"prev-word\"] มาใส่เป็น Features ด้วย เช่น fly ถ้าข้างหน้าเป็น 'a' POS ของ 'fly' เป็น Noun ไม่งั้นเป็น Verb"
   ]
  },
  {
   "cell_type": "code",
   "execution_count": 0,
   "metadata": {
    "colab": {
     "autoexec": {
      "startup": false,
      "wait_interval": 0
     }
    },
    "colab_type": "code",
    "id": "lZGfUQLrOw6_"
   },
   "outputs": [],
   "source": [
    "import nltk\n",
    "from nltk.corpus import brown\n",
    "\n",
    "def pos_features(sentence, i):\n",
    "  features = {\"suffix(1)\": sentence[i][-1:],\n",
    "              \"suffix(2)\": sentence[i][-2:],\n",
    "              \"suffix(3)\": sentence[i][-3:]}\n",
    "  if i == 0:\n",
    "      features[\"prev-word\"] = \"<START>\"\n",
    "  else:\n",
    "      features[\"prev-word\"] = sentence[i-1]\n",
    "  return features"
   ]
  },
  {
   "cell_type": "markdown",
   "metadata": {
    "colab_type": "text",
    "id": "Ct0EkJEZZ68g"
   },
   "source": [
    "brown.sents()[0] -> ['The', 'Fulton', 'County', 'Grand', 'Jury', 'said', 'Friday', 'an', 'investigation', ....]"
   ]
  },
  {
   "cell_type": "markdown",
   "metadata": {
    "colab_type": "text",
    "id": "MoDMx7xdadfH"
   },
   "source": [
    "pos_features(brown.sents()[0], 8) -> {'suffix(1)': 'n', 'suffix(2)': 'on', 'suffix(3)': 'ion', 'prev-word': 'an'}"
   ]
  },
  {
   "cell_type": "markdown",
   "metadata": {
    "colab_type": "text",
    "id": "O_bODgWcfyFL"
   },
   "source": [
    "untagged_sent คือ Sentence ที่ไม่มี Tag ที่แต่ละคำ"
   ]
  },
  {
   "cell_type": "code",
   "execution_count": 0,
   "metadata": {
    "colab": {
     "autoexec": {
      "startup": false,
      "wait_interval": 0
     }
    },
    "colab_type": "code",
    "id": "c_pfnojtVW9b"
   },
   "outputs": [],
   "source": [
    "tagged_sents = brown.tagged_sents(categories='news')\n",
    "featuresets = []\n",
    "for tagged_sent in tagged_sents:\n",
    "    untagged_sent = nltk.tag.untag(tagged_sent)\n",
    "    for i, (word, tag) in enumerate(tagged_sent):\n",
    "      featuresets.append((pos_features(untagged_sent, i), tag) )"
   ]
  },
  {
   "cell_type": "code",
   "execution_count": 0,
   "metadata": {
    "colab": {
     "autoexec": {
      "startup": false,
      "wait_interval": 0
     }
    },
    "colab_type": "code",
    "id": "0FxDCwwQVchL"
   },
   "outputs": [],
   "source": [
    "size = int(len(featuresets) * 0.1)\n",
    "train_set, test_set = featuresets[size:], featuresets[:size]\n",
    "classifier = nltk.NaiveBayesClassifier.train(train_set)"
   ]
  },
  {
   "cell_type": "code",
   "execution_count": 4,
   "metadata": {
    "colab": {
     "autoexec": {
      "startup": false,
      "wait_interval": 0
     },
     "base_uri": "https://localhost:8080/",
     "height": 34
    },
    "colab_type": "code",
    "executionInfo": {
     "elapsed": 21439,
     "status": "ok",
     "timestamp": 1525327783616,
     "user": {
      "displayName": "Kantinee Kat.",
      "photoUrl": "//lh3.googleusercontent.com/-cTx6FLLpB3o/AAAAAAAAAAI/AAAAAAAAHxE/6Q7cfvbHQJ0/s50-c-k-no/photo.jpg",
      "userId": "112728143482467190932"
     },
     "user_tz": -420
    },
    "id": "ddRWXJBvVg-0",
    "outputId": "c98c0ca8-c30f-4a83-f7f5-0161f76a4af6"
   },
   "outputs": [
    {
     "name": "stdout",
     "output_type": "stream",
     "text": [
      "0.7891596220785678\n"
     ]
    }
   ],
   "source": [
    "print(nltk.classify.accuracy(classifier, test_set))"
   ]
  },
  {
   "cell_type": "markdown",
   "metadata": {
    "colab_type": "text",
    "id": "FhYG6hCBWVDS"
   },
   "source": [
    "However, it is unable to learn the generalization that a\n",
    "word is probably a noun if it follows an adjective, because it doesn't have access to the previous word's part-of-speech tag."
   ]
  },
  {
   "cell_type": "markdown",
   "metadata": {
    "colab_type": "text",
    "id": "APZWKDZAWe3T"
   },
   "source": [
    "In general, simple\n",
    "classifiers always treat each input as *independent from all other inputs*. In many contexts, this makes perfect sense. For example, decisions about\n",
    "whether names tend to be male or female can be made on a case-by-case basis. However, there are often cases, such as part-of-speech tagging, where\n",
    "we are interested in solving classification problems that are *closely related to one another*."
   ]
  }
 ],
 "metadata": {
  "colab": {
   "collapsed_sections": [],
   "default_view": {},
   "name": "Workshop_Ex5.ipynb",
   "provenance": [],
   "version": "0.3.2",
   "views": {}
  },
  "kernelspec": {
   "display_name": "Python 3",
   "language": "python",
   "name": "python3"
  },
  "language_info": {
   "codemirror_mode": {
    "name": "ipython",
    "version": 3
   },
   "file_extension": ".py",
   "mimetype": "text/x-python",
   "name": "python",
   "nbconvert_exporter": "python",
   "pygments_lexer": "ipython3",
   "version": "3.6.4"
  }
 },
 "nbformat": 4,
 "nbformat_minor": 1
}

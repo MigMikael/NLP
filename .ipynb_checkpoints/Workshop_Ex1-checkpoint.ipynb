{
 "cells": [
  {
   "cell_type": "markdown",
   "metadata": {
    "colab_type": "text",
    "id": "nJpi7dznzZ3P"
   },
   "source": [
    "# **Ex.1 Gender Identification**\n",
    "\n",
    "Names corpus, containing 8,000 first names categorized by gender. The male and female names are stored in separate files. \n",
    "\n",
    "---"
   ]
  },
  {
   "cell_type": "markdown",
   "metadata": {
    "colab_type": "text",
    "id": "44_yE8tgjMNK"
   },
   "source": [
    "### **Dataset**"
   ]
  },
  {
   "cell_type": "code",
   "execution_count": 2,
   "metadata": {
    "colab": {
     "autoexec": {
      "startup": false,
      "wait_interval": 0
     },
     "base_uri": "https://localhost:8080/",
     "height": 51
    },
    "colab_type": "code",
    "executionInfo": {
     "elapsed": 1820,
     "status": "ok",
     "timestamp": 1525187764176,
     "user": {
      "displayName": "Kantinee Kat.",
      "photoUrl": "//lh3.googleusercontent.com/-cTx6FLLpB3o/AAAAAAAAAAI/AAAAAAAAHxE/6Q7cfvbHQJ0/s50-c-k-no/photo.jpg",
      "userId": "112728143482467190932"
     },
     "user_tz": -420
    },
    "id": "ynEbAljM0TF4",
    "outputId": "79736e35-2be1-4ebc-c4e7-72385f0c1c00"
   },
   "outputs": [
    {
     "name": "stdout",
     "output_type": "stream",
     "text": [
      "[nltk_data] Downloading package names to /content/nltk_data...\n",
      "[nltk_data]   Unzipping corpora/names.zip.\n"
     ]
    }
   ],
   "source": [
    "import nltk\n",
    "nltk.download('names')\n",
    "from nltk.corpus import names\n",
    "labeled_names = ([(name, 'male') for name in names.words('male.txt')] + [(name, 'female') for name in names.words('female.txt')])\n",
    "import random\n",
    "random.shuffle(labeled_names)\n"
   ]
  },
  {
   "cell_type": "markdown",
   "metadata": {
    "colab_type": "text",
    "id": "3I-OKQaIISsq"
   },
   "source": [
    "### **Design Features**"
   ]
  },
  {
   "cell_type": "code",
   "execution_count": 0,
   "metadata": {
    "colab": {
     "autoexec": {
      "startup": false,
      "wait_interval": 0
     }
    },
    "colab_type": "code",
    "id": "rROlFlbnG_f6"
   },
   "outputs": [],
   "source": [
    "def gender_features(word):\n",
    "  return {'last_letter': word[-1]}"
   ]
  },
  {
   "cell_type": "code",
   "execution_count": 4,
   "metadata": {
    "colab": {
     "autoexec": {
      "startup": false,
      "wait_interval": 0
     },
     "base_uri": "https://localhost:8080/",
     "height": 51
    },
    "colab_type": "code",
    "executionInfo": {
     "elapsed": 806,
     "status": "ok",
     "timestamp": 1525187766467,
     "user": {
      "displayName": "Kantinee Kat.",
      "photoUrl": "//lh3.googleusercontent.com/-cTx6FLLpB3o/AAAAAAAAAAI/AAAAAAAAHxE/6Q7cfvbHQJ0/s50-c-k-no/photo.jpg",
      "userId": "112728143482467190932"
     },
     "user_tz": -420
    },
    "id": "huQgvk_XnKdn",
    "outputId": "ed6cc52c-4c46-400d-db0c-ed933d0a847e"
   },
   "outputs": [
    {
     "name": "stdout",
     "output_type": "stream",
     "text": [
      "[({'last_letter': u'e'}, 'female'), ({'last_letter': u'n'}, 'male'), ({'last_letter': u'l'}, 'male')]\n",
      "[({'last_letter': u's'}, 'male'), ({'last_letter': u'a'}, 'female'), ({'last_letter': u'g'}, 'male')]\n"
     ]
    }
   ],
   "source": [
    "featuresets = [(gender_features(n), gender) for (n, gender) in labeled_names]\n",
    "train_set, test_set = featuresets[500:], featuresets[:500]\n",
    "print(featuresets[:3])\n",
    "print(featuresets[-3:])"
   ]
  },
  {
   "cell_type": "markdown",
   "metadata": {
    "colab_type": "text",
    "id": "sCQPgBe49k_b"
   },
   "source": [
    "When working with large corpora, constructing a single list that contains the features of every instance can use up a large amount of memory. In these\n",
    "cases, use the function nltk.classify.apply_features, which returns an object that acts like a list but does not store all the feature sets in memory:  \n",
    "```\n",
    "# Option 2\n",
    "from nltk.classify import apply_features\n",
    "train_set = apply_features(gender_features, labeled_names[500:])\n",
    "test_set = apply_features(gender_features, labeled_names[:500])\n",
    "\n",
    "```\n",
    "\n"
   ]
  },
  {
   "cell_type": "markdown",
   "metadata": {
    "colab_type": "text",
    "id": "p7DasdFRGBKb"
   },
   "source": [
    "## **Naive Bayes Classifier**\n",
    "\n"
   ]
  },
  {
   "cell_type": "code",
   "execution_count": 0,
   "metadata": {
    "colab": {
     "autoexec": {
      "startup": false,
      "wait_interval": 0
     }
    },
    "colab_type": "code",
    "id": "KSMPjGIX4KHE"
   },
   "outputs": [],
   "source": [
    "classifier = nltk.NaiveBayesClassifier.train(train_set)"
   ]
  },
  {
   "cell_type": "markdown",
   "metadata": {
    "colab_type": "text",
    "id": "CCgSVUfMmQCQ"
   },
   "source": [
    "The training set is used to train a new \"naive Bayes\" classifier.  \n",
    "Let's just test it out on some names from *The Avengers*. The names that did not appear in its training data:\n",
    "\n",
    "```\n",
    "# Just for fun\n",
    "classifier.classify(gender_features('Rogers'))\n",
    "classifier.classify(gender_features('Gamora'))\n",
    "```\n",
    "\n"
   ]
  },
  {
   "cell_type": "markdown",
   "metadata": {
    "colab_type": "text",
    "id": "X-UwII4JGc-D"
   },
   "source": [
    "### ** Evaluate**\n",
    " "
   ]
  },
  {
   "cell_type": "markdown",
   "metadata": {
    "colab_type": "text",
    "id": "PATwCFiLr04j"
   },
   "source": [
    "We can systematically evaluate the classifier on a much larger quantity of unseen data(Test_set)"
   ]
  },
  {
   "cell_type": "code",
   "execution_count": 6,
   "metadata": {
    "colab": {
     "autoexec": {
      "startup": false,
      "wait_interval": 0
     },
     "base_uri": "https://localhost:8080/",
     "height": 34
    },
    "colab_type": "code",
    "executionInfo": {
     "elapsed": 961,
     "status": "ok",
     "timestamp": 1525187768180,
     "user": {
      "displayName": "Kantinee Kat.",
      "photoUrl": "//lh3.googleusercontent.com/-cTx6FLLpB3o/AAAAAAAAAAI/AAAAAAAAHxE/6Q7cfvbHQJ0/s50-c-k-no/photo.jpg",
      "userId": "112728143482467190932"
     },
     "user_tz": -420
    },
    "id": "t1EnLMueGoUs",
    "outputId": "aad85232-b12a-4b58-c186-54dd590ae1ac"
   },
   "outputs": [
    {
     "name": "stdout",
     "output_type": "stream",
     "text": [
      "0.758\n"
     ]
    }
   ],
   "source": [
    "print(nltk.classify.accuracy(classifier, test_set))"
   ]
  },
  {
   "cell_type": "markdown",
   "metadata": {
    "colab_type": "text",
    "id": "ViN1-e0oH2vD"
   },
   "source": [
    "To determine which features it found most effective for distinguishing the names' genders. This listing shows that the names in the training set that end in \"a\" are female 38 times more often than they are male, but names that end in \"k\" are\n",
    "male 31 times more often than they are female. These ratios are known as ***likelihood ratios***, and can be useful for comparing different feature-outcome\n",
    "relationships. "
   ]
  },
  {
   "cell_type": "code",
   "execution_count": 36,
   "metadata": {
    "colab": {
     "autoexec": {
      "startup": false,
      "wait_interval": 0
     },
     "base_uri": "https://localhost:8080/",
     "height": 442
    },
    "colab_type": "code",
    "executionInfo": {
     "elapsed": 930,
     "status": "ok",
     "timestamp": 1525189819383,
     "user": {
      "displayName": "Kantinee Kat.",
      "photoUrl": "//lh3.googleusercontent.com/-cTx6FLLpB3o/AAAAAAAAAAI/AAAAAAAAHxE/6Q7cfvbHQJ0/s50-c-k-no/photo.jpg",
      "userId": "112728143482467190932"
     },
     "user_tz": -420
    },
    "id": "2XFFZxGLIIYp",
    "outputId": "6552c78d-57d3-4e18-a263-2a3455c11c67"
   },
   "outputs": [
    {
     "name": "stdout",
     "output_type": "stream",
     "text": [
      "Most Informative Features\n",
      "             last_letter = u'a'           female : male   =     33.0 : 1.0\n",
      "             last_letter = u'k'             male : female =     30.7 : 1.0\n",
      "             last_letter = u'f'             male : female =     26.2 : 1.0\n",
      "             last_letter = u'p'             male : female =     19.2 : 1.0\n",
      "             last_letter = u'z'             male : female =     11.1 : 1.0\n",
      "             last_letter = u'd'             male : female =      9.7 : 1.0\n",
      "             last_letter = u'o'             male : female =      8.1 : 1.0\n",
      "             last_letter = u'm'             male : female =      8.0 : 1.0\n",
      "             last_letter = u'v'             male : female =      7.3 : 1.0\n",
      "             last_letter = u'r'             male : female =      6.7 : 1.0\n",
      "             last_letter = u'g'             male : female =      5.4 : 1.0\n",
      "             last_letter = u'w'             male : female =      4.6 : 1.0\n",
      "             last_letter = u's'             male : female =      4.4 : 1.0\n",
      "             last_letter = u'j'             male : female =      4.1 : 1.0\n",
      "             last_letter = u't'             male : female =      3.6 : 1.0\n",
      "             last_letter = u'i'           female : male   =      3.5 : 1.0\n",
      "             last_letter = u'b'             male : female =      3.2 : 1.0\n",
      "             last_letter = u'u'             male : female =      3.0 : 1.0\n",
      "             last_letter = u'n'             male : female =      2.1 : 1.0\n",
      "             last_letter = u'x'             male : female =      1.9 : 1.0\n",
      "             last_letter = u'e'           female : male   =      1.8 : 1.0\n",
      "             last_letter = u'l'             male : female =      1.7 : 1.0\n",
      "             last_letter = u'h'             male : female =      1.6 : 1.0\n",
      "             last_letter = u'y'             male : female =      1.2 : 1.0\n"
     ]
    }
   ],
   "source": [
    "classifier.show_most_informative_features(30)"
   ]
  },
  {
   "cell_type": "markdown",
   "metadata": {
    "colab_type": "text",
    "id": "8sEGIGBa5BB4"
   },
   "source": [
    "Note : Data Explore A conditional frequency distribution needs to pair each event with a condition. Each pair has the form (condition, event).\n"
   ]
  },
  {
   "cell_type": "code",
   "execution_count": 8,
   "metadata": {
    "colab": {
     "autoexec": {
      "startup": false,
      "wait_interval": 0
     },
     "base_uri": "https://localhost:8080/",
     "height": 359
    },
    "colab_type": "code",
    "executionInfo": {
     "elapsed": 1748,
     "status": "ok",
     "timestamp": 1525187771115,
     "user": {
      "displayName": "Kantinee Kat.",
      "photoUrl": "//lh3.googleusercontent.com/-cTx6FLLpB3o/AAAAAAAAAAI/AAAAAAAAHxE/6Q7cfvbHQJ0/s50-c-k-no/photo.jpg",
      "userId": "112728143482467190932"
     },
     "user_tz": -420
    },
    "id": "YkkJ0YEJ5Uun",
    "outputId": "4955b7e8-ad69-4d4f-91f5-ae193259214a"
   },
   "outputs": [
    {
     "data": {
      "image/png": "[encoded data removed]",
      "text/plain": [
       "<matplotlib.figure.Figure at 0x7f45d6275190>"
      ]
     },
     "metadata": {
      "tags": []
     },
     "output_type": "display_data"
    }
   ],
   "source": [
    "cfd = nltk.ConditionalFreqDist((fileid, name[-1]) for fileid in names.fileids() for name in names.words(fileid))\n",
    "cfd.plot()"
   ]
  },
  {
   "cell_type": "markdown",
   "metadata": {
    "colab_type": "text",
    "id": "3XNj9dDB7sME"
   },
   "source": [
    "### ***Test Encoding More Features***: \n",
    "\n",
    "*   Length of the name \n",
    "*   First letter\n",
    "\n",
    "*   Last letter\n",
    "*   etc.\n"
   ]
  },
  {
   "cell_type": "code",
   "execution_count": 0,
   "metadata": {
    "colab": {
     "autoexec": {
      "startup": false,
      "wait_interval": 0
     }
    },
    "colab_type": "code",
    "id": "yAzASdax808z"
   },
   "outputs": [],
   "source": [
    "def gender_features2(name):\n",
    "  features = {}\n",
    "  features[\"first_letter\"] = name[0].lower()\n",
    "  features[\"last_letter\"] = name[-1].lower()\n",
    "  for letter in 'abcdefghijklmnopqrstuvwxyz':\n",
    "    features[\"count({})\".format(letter)] = name.lower().count(letter)\n",
    "    features[\"has({})\".format(letter)] = (letter in name.lower())\n",
    "  return features"
   ]
  },
  {
   "cell_type": "code",
   "execution_count": 10,
   "metadata": {
    "colab": {
     "autoexec": {
      "startup": false,
      "wait_interval": 0
     },
     "base_uri": "https://localhost:8080/",
     "height": 935
    },
    "colab_type": "code",
    "executionInfo": {
     "elapsed": 1536,
     "status": "ok",
     "timestamp": 1525187774378,
     "user": {
      "displayName": "Kantinee Kat.",
      "photoUrl": "//lh3.googleusercontent.com/-cTx6FLLpB3o/AAAAAAAAAAI/AAAAAAAAHxE/6Q7cfvbHQJ0/s50-c-k-no/photo.jpg",
      "userId": "112728143482467190932"
     },
     "user_tz": -420
    },
    "id": "d9wRSpKfIU5z",
    "outputId": "89877f69-d034-4efa-c1a0-2243e91bb8ee"
   },
   "outputs": [
    {
     "data": {
      "text/plain": [
       "{'count(a)': 0,\n",
       " 'count(b)': 0,\n",
       " 'count(c)': 0,\n",
       " 'count(d)': 0,\n",
       " 'count(e)': 0,\n",
       " 'count(f)': 0,\n",
       " 'count(g)': 0,\n",
       " 'count(h)': 0,\n",
       " 'count(i)': 0,\n",
       " 'count(j)': 0,\n",
       " 'count(k)': 0,\n",
       " 'count(l)': 0,\n",
       " 'count(m)': 0,\n",
       " 'count(n)': 1,\n",
       " 'count(o)': 1,\n",
       " 'count(p)': 0,\n",
       " 'count(q)': 0,\n",
       " 'count(r)': 0,\n",
       " 'count(s)': 0,\n",
       " 'count(t)': 1,\n",
       " 'count(u)': 0,\n",
       " 'count(v)': 0,\n",
       " 'count(w)': 0,\n",
       " 'count(x)': 0,\n",
       " 'count(y)': 1,\n",
       " 'count(z)': 0,\n",
       " 'first_letter': 't',\n",
       " 'has(a)': False,\n",
       " 'has(b)': False,\n",
       " 'has(c)': False,\n",
       " 'has(d)': False,\n",
       " 'has(e)': False,\n",
       " 'has(f)': False,\n",
       " 'has(g)': False,\n",
       " 'has(h)': False,\n",
       " 'has(i)': False,\n",
       " 'has(j)': False,\n",
       " 'has(k)': False,\n",
       " 'has(l)': False,\n",
       " 'has(m)': False,\n",
       " 'has(n)': True,\n",
       " 'has(o)': True,\n",
       " 'has(p)': False,\n",
       " 'has(q)': False,\n",
       " 'has(r)': False,\n",
       " 'has(s)': False,\n",
       " 'has(t)': True,\n",
       " 'has(u)': False,\n",
       " 'has(v)': False,\n",
       " 'has(w)': False,\n",
       " 'has(x)': False,\n",
       " 'has(y)': True,\n",
       " 'has(z)': False,\n",
       " 'last_letter': 'y'}"
      ]
     },
     "execution_count": 10,
     "metadata": {
      "tags": []
     },
     "output_type": "execute_result"
    }
   ],
   "source": [
    "gender_features2('Tony')"
   ]
  },
  {
   "cell_type": "code",
   "execution_count": 11,
   "metadata": {
    "colab": {
     "autoexec": {
      "startup": false,
      "wait_interval": 0
     },
     "base_uri": "https://localhost:8080/",
     "height": 34
    },
    "colab_type": "code",
    "executionInfo": {
     "elapsed": 2168,
     "status": "ok",
     "timestamp": 1525187776632,
     "user": {
      "displayName": "Kantinee Kat.",
      "photoUrl": "//lh3.googleusercontent.com/-cTx6FLLpB3o/AAAAAAAAAAI/AAAAAAAAHxE/6Q7cfvbHQJ0/s50-c-k-no/photo.jpg",
      "userId": "112728143482467190932"
     },
     "user_tz": -420
    },
    "id": "q3rrUMV7KEOT",
    "outputId": "22f3e9ea-17ee-48dd-e4e8-78ac4b2e2065"
   },
   "outputs": [
    {
     "name": "stdout",
     "output_type": "stream",
     "text": [
      "0.754\n"
     ]
    }
   ],
   "source": [
    "featuresets = [(gender_features2(n), gender) for (n, gender) in labeled_names]\n",
    "train_set, test_set = featuresets[500:], featuresets[:500]\n",
    "classifier = nltk.NaiveBayesClassifier.train(train_set)\n",
    "print(nltk.classify.accuracy(classifier, test_set))"
   ]
  },
  {
   "cell_type": "markdown",
   "metadata": {
    "colab_type": "text",
    "id": "EDlbVlmmKfGr"
   },
   "source": [
    "## **Choosing The Right Features with Error Analysis** \n",
    "Organization of corpus data for training supervised classifiers.\n",
    "\n",
    "1.   The corpus data is divided into two sets: the development set, and the test set. \n",
    "2.   The development set is subdivided into a training set and a dev-test set.\n",
    "1.   The training set is used to train the model.\n",
    "2.   The dev-test set is used to perform error analysis \n",
    "1.   The test set serves in final evaluation of the system.\n",
    "\n",
    "\n",
    "\n",
    " \n",
    "\n",
    "\n",
    "\n",
    "\n",
    "\n",
    "\n",
    "  "
   ]
  },
  {
   "cell_type": "code",
   "execution_count": 0,
   "metadata": {
    "colab": {
     "autoexec": {
      "startup": false,
      "wait_interval": 0
     }
    },
    "colab_type": "code",
    "id": "-bf54fuqc2hk"
   },
   "outputs": [],
   "source": [
    "train_names = labeled_names[1500:]\n",
    "devtest_names = labeled_names[500:1500]\n",
    "test_names = labeled_names[:500]"
   ]
  },
  {
   "cell_type": "code",
   "execution_count": 13,
   "metadata": {
    "colab": {
     "autoexec": {
      "startup": false,
      "wait_interval": 0
     },
     "base_uri": "https://localhost:8080/",
     "height": 34
    },
    "colab_type": "code",
    "executionInfo": {
     "elapsed": 905,
     "status": "ok",
     "timestamp": 1525187782246,
     "user": {
      "displayName": "Kantinee Kat.",
      "photoUrl": "//lh3.googleusercontent.com/-cTx6FLLpB3o/AAAAAAAAAAI/AAAAAAAAHxE/6Q7cfvbHQJ0/s50-c-k-no/photo.jpg",
      "userId": "112728143482467190932"
     },
     "user_tz": -420
    },
    "id": "ZEdrIrukev0F",
    "outputId": "9c9458ed-ac1f-4282-c20c-fd022b9c6c61"
   },
   "outputs": [
    {
     "name": "stdout",
     "output_type": "stream",
     "text": [
      "0.752\n"
     ]
    }
   ],
   "source": [
    "train_set = [(gender_features(n), gender) for (n, gender) in train_names]\n",
    "devtest_set = [(gender_features(n), gender) for (n, gender) in devtest_names]\n",
    "test_set = [(gender_features(n), gender) for (n, gender) in test_names]\n",
    "classifier = nltk.NaiveBayesClassifier.train(train_set)\n",
    "print(nltk.classify.accuracy(classifier, devtest_set))"
   ]
  },
  {
   "cell_type": "markdown",
   "metadata": {
    "colab_type": "text",
    "id": "1_IV8YMkuvV-"
   },
   "source": [
    "**Error analysis**: Using the dev-test set, we can generate a list of the errors that the classifier makes when predicting name genders"
   ]
  },
  {
   "cell_type": "code",
   "execution_count": 0,
   "metadata": {
    "colab": {
     "autoexec": {
      "startup": false,
      "wait_interval": 0
     }
    },
    "colab_type": "code",
    "id": "aa-USc7du8P3"
   },
   "outputs": [],
   "source": [
    "errors = []\n",
    "for (name, tag) in devtest_names:\n",
    "  guess = classifier.classify(gender_features(name))\n",
    "  if guess != tag:\n",
    "    errors.append( (tag, guess, name))"
   ]
  },
  {
   "cell_type": "code",
   "execution_count": 15,
   "metadata": {
    "colab": {
     "autoexec": {
      "startup": false,
      "wait_interval": 0
     },
     "base_uri": "https://localhost:8080/",
     "height": 4233
    },
    "colab_type": "code",
    "executionInfo": {
     "elapsed": 899,
     "status": "ok",
     "timestamp": 1525187783855,
     "user": {
      "displayName": "Kantinee Kat.",
      "photoUrl": "//lh3.googleusercontent.com/-cTx6FLLpB3o/AAAAAAAAAAI/AAAAAAAAHxE/6Q7cfvbHQJ0/s50-c-k-no/photo.jpg",
      "userId": "112728143482467190932"
     },
     "user_tz": -420
    },
    "id": "eeTBIm7WvZGJ",
    "outputId": "fefec587-7064-447e-dac9-3f447ad11a0f"
   },
   "outputs": [
    {
     "name": "stdout",
     "output_type": "stream",
     "text": [
      "correct=female   guess=male     name=Adelind                       \n",
      "correct=female   guess=male     name=Alexis                        \n",
      "correct=female   guess=male     name=Allis                         \n",
      "correct=female   guess=male     name=Alyson                        \n",
      "correct=female   guess=male     name=Anne-Mar                      \n",
      "correct=female   guess=male     name=Babs                          \n",
      "correct=female   guess=male     name=Beatriz                       \n",
      "correct=female   guess=male     name=Brit                          \n",
      "correct=female   guess=male     name=Caitrin                       \n",
      "correct=female   guess=male     name=Caro                          \n",
      "correct=female   guess=male     name=Carolynn                      \n",
      "correct=female   guess=male     name=Cathrin                       \n",
      "correct=female   guess=male     name=Cathryn                       \n",
      "correct=female   guess=male     name=Cher                          \n",
      "correct=female   guess=male     name=Chris                         \n",
      "correct=female   guess=male     name=Chriss                        \n",
      "correct=female   guess=male     name=Clair                         \n",
      "correct=female   guess=male     name=Con                           \n",
      "correct=female   guess=male     name=Corliss                       \n",
      "correct=female   guess=male     name=Damaris                       \n",
      "correct=female   guess=male     name=Devan                         \n",
      "correct=female   guess=male     name=Dorit                         \n",
      "correct=female   guess=male     name=Dyan                          \n",
      "correct=female   guess=male     name=Edin                          \n",
      "correct=female   guess=male     name=Ellen                         \n",
      "correct=female   guess=male     name=Elyn                          \n",
      "correct=female   guess=male     name=Emlyn                         \n",
      "correct=female   guess=male     name=Emlynn                        \n",
      "correct=female   guess=male     name=Emmalyn                       \n",
      "correct=female   guess=male     name=Evaleen                       \n",
      "correct=female   guess=male     name=Francis                       \n",
      "correct=female   guess=male     name=Fred                          \n",
      "correct=female   guess=male     name=Gillan                        \n",
      "correct=female   guess=male     name=Heather                       \n",
      "correct=female   guess=male     name=Hildagard                     \n",
      "correct=female   guess=male     name=Inez                          \n",
      "correct=female   guess=male     name=Jacklyn                       \n",
      "correct=female   guess=male     name=Janis                         \n",
      "correct=female   guess=male     name=Jeniffer                      \n",
      "correct=female   guess=male     name=Jess                          \n",
      "correct=female   guess=male     name=Jesselyn                      \n",
      "correct=female   guess=male     name=Jo                            \n",
      "correct=female   guess=male     name=Jo-Ann                        \n",
      "correct=female   guess=male     name=Joannes                       \n",
      "correct=female   guess=male     name=Joselyn                       \n",
      "correct=female   guess=male     name=Joyous                        \n",
      "correct=female   guess=male     name=Karylin                       \n",
      "correct=female   guess=male     name=Kipp                          \n",
      "correct=female   guess=male     name=Kirsten                       \n",
      "correct=female   guess=male     name=Kyrstin                       \n",
      "correct=female   guess=male     name=Lian                          \n",
      "correct=female   guess=male     name=Lilyan                        \n",
      "correct=female   guess=male     name=Madlin                        \n",
      "correct=female   guess=male     name=Maegan                        \n",
      "correct=female   guess=male     name=Marget                        \n",
      "correct=female   guess=male     name=Marigold                      \n",
      "correct=female   guess=male     name=Maris                         \n",
      "correct=female   guess=male     name=Maryangelyn                   \n",
      "correct=female   guess=male     name=Marylou                       \n",
      "correct=female   guess=male     name=Marys                         \n",
      "correct=female   guess=male     name=Maud                          \n",
      "correct=female   guess=male     name=Mavis                         \n",
      "correct=female   guess=male     name=Meaghan                       \n",
      "correct=female   guess=male     name=Meg                           \n",
      "correct=female   guess=male     name=Melisent                      \n",
      "correct=female   guess=male     name=Noelyn                        \n",
      "correct=female   guess=male     name=Pen                           \n",
      "correct=female   guess=male     name=Persis                        \n",
      "correct=female   guess=male     name=Phylys                        \n",
      "correct=female   guess=male     name=Raf                           \n",
      "correct=female   guess=male     name=Ragnhild                      \n",
      "correct=female   guess=male     name=Rhiamon                       \n",
      "correct=female   guess=male     name=Rosamond                      \n",
      "correct=female   guess=male     name=Roselyn                       \n",
      "correct=female   guess=male     name=Roz                           \n",
      "correct=female   guess=male     name=Sam                           \n",
      "correct=female   guess=male     name=Sara-Ann                      \n",
      "correct=female   guess=male     name=Shir                          \n",
      "correct=female   guess=male     name=Tamiko                        \n",
      "correct=female   guess=male     name=Thomasin                      \n",
      "correct=female   guess=male     name=Vivyan                        \n",
      "correct=female   guess=male     name=Yoshiko                       \n",
      "correct=male     guess=female   name=Abdel                         \n",
      "correct=male     guess=female   name=Abdul                         \n",
      "correct=male     guess=female   name=Addie                         \n",
      "correct=male     guess=female   name=Aguste                        \n",
      "correct=male     guess=female   name=Ajai                          \n",
      "correct=male     guess=female   name=Al                            \n",
      "correct=male     guess=female   name=Alfie                         \n",
      "correct=male     guess=female   name=Ambrosi                       \n",
      "correct=male     guess=female   name=Anatole                       \n",
      "correct=male     guess=female   name=Arvie                         \n",
      "correct=male     guess=female   name=Arvy                          \n",
      "correct=male     guess=female   name=Barny                         \n",
      "correct=male     guess=female   name=Barri                         \n",
      "correct=male     guess=female   name=Barrie                        \n",
      "correct=male     guess=female   name=Benjy                         \n",
      "correct=male     guess=female   name=Blaine                        \n",
      "correct=male     guess=female   name=Brandy                        \n",
      "correct=male     guess=female   name=Brody                         \n",
      "correct=male     guess=female   name=Buddy                         \n",
      "correct=male     guess=female   name=Chaddie                       \n",
      "correct=male     guess=female   name=Che                           \n",
      "correct=male     guess=female   name=Claire                        \n",
      "correct=male     guess=female   name=Clay                          \n",
      "correct=male     guess=female   name=Clemmie                       \n",
      "correct=male     guess=female   name=Cobbie                        \n",
      "correct=male     guess=female   name=Cody                          \n",
      "correct=male     guess=female   name=Constantine                   \n",
      "correct=male     guess=female   name=Conway                        \n",
      "correct=male     guess=female   name=Costa                         \n",
      "correct=male     guess=female   name=Courtney                      \n",
      "correct=male     guess=female   name=Cyrille                       \n",
      "correct=male     guess=female   name=Daffy                         \n",
      "correct=male     guess=female   name=Danie                         \n",
      "correct=male     guess=female   name=Dante                         \n",
      "correct=male     guess=female   name=Darrel                        \n",
      "correct=male     guess=female   name=Darryl                        \n",
      "correct=male     guess=female   name=Dell                          \n",
      "correct=male     guess=female   name=Denny                         \n",
      "correct=male     guess=female   name=Deryl                         \n",
      "correct=male     guess=female   name=Dietrich                      \n",
      "correct=male     guess=female   name=Drake                         \n",
      "correct=male     guess=female   name=Duke                          \n",
      "correct=male     guess=female   name=Earle                         \n",
      "correct=male     guess=female   name=Enrique                       \n",
      "correct=male     guess=female   name=Erich                         \n",
      "correct=male     guess=female   name=Ezekiel                       \n",
      "correct=male     guess=female   name=Finley                        \n",
      "correct=male     guess=female   name=Gabriel                       \n",
      "correct=male     guess=female   name=Garey                         \n",
      "correct=male     guess=female   name=Garfinkel                     \n",
      "correct=male     guess=female   name=Giuseppe                      \n",
      "correct=male     guess=female   name=Godfry                        \n",
      "correct=male     guess=female   name=Gordie                        \n",
      "correct=male     guess=female   name=Graehme                       \n",
      "correct=male     guess=female   name=Gustave                       \n",
      "correct=male     guess=female   name=Hailey                        \n",
      "correct=male     guess=female   name=Haley                         \n",
      "correct=male     guess=female   name=Harry                         \n",
      "correct=male     guess=female   name=Hartley                       \n",
      "correct=male     guess=female   name=Hasty                         \n",
      "correct=male     guess=female   name=Heath                         \n",
      "correct=male     guess=female   name=Henrie                        \n",
      "correct=male     guess=female   name=Henry                         \n",
      "correct=male     guess=female   name=Herbie                        \n",
      "correct=male     guess=female   name=Herby                         \n",
      "correct=male     guess=female   name=Hersch                        \n",
      "correct=male     guess=female   name=Hersh                         \n",
      "correct=male     guess=female   name=Hill                          \n",
      "correct=male     guess=female   name=Horace                        \n",
      "correct=male     guess=female   name=Huntlee                       \n",
      "correct=male     guess=female   name=Huntley                       \n",
      "correct=male     guess=female   name=Ignace                        \n",
      "correct=male     guess=female   name=Ike                           \n",
      "correct=male     guess=female   name=Jaime                         \n",
      "correct=male     guess=female   name=Jake                          \n",
      "correct=male     guess=female   name=Jamie                         \n",
      "correct=male     guess=female   name=Jeffrey                       \n",
      "correct=male     guess=female   name=Jereme                        \n",
      "correct=male     guess=female   name=Jeremy                        \n",
      "correct=male     guess=female   name=Jermaine                      \n",
      "correct=male     guess=female   name=Jermayne                      \n",
      "correct=male     guess=female   name=Jerri                         \n",
      "correct=male     guess=female   name=Jerrie                        \n",
      "correct=male     guess=female   name=Jerrome                       \n",
      "correct=male     guess=female   name=Jesse                         \n",
      "correct=male     guess=female   name=Jodie                         \n",
      "correct=male     guess=female   name=Joel                          \n",
      "correct=male     guess=female   name=Joey                          \n",
      "correct=male     guess=female   name=Josiah                        \n",
      "correct=male     guess=female   name=Judith                        \n",
      "correct=male     guess=female   name=Julie                         \n",
      "correct=male     guess=female   name=Karel                         \n",
      "correct=male     guess=female   name=Kendall                       \n",
      "correct=male     guess=female   name=Kenneth                       \n",
      "correct=male     guess=female   name=Kermie                        \n",
      "correct=male     guess=female   name=Laurie                        \n",
      "correct=male     guess=female   name=Lay                           \n",
      "correct=male     guess=female   name=Lemmie                        \n",
      "correct=male     guess=female   name=Lemmy                         \n",
      "correct=male     guess=female   name=Lindsay                       \n",
      "correct=male     guess=female   name=Lionel                        \n",
      "correct=male     guess=female   name=Lonny                         \n",
      "correct=male     guess=female   name=Lorne                         \n",
      "correct=male     guess=female   name=Luke                          \n",
      "correct=male     guess=female   name=Manuel                        \n",
      "correct=male     guess=female   name=Marcel                        \n",
      "correct=male     guess=female   name=Mendel                        \n",
      "correct=male     guess=female   name=Michael                       \n",
      "correct=male     guess=female   name=Michale                       \n",
      "correct=male     guess=female   name=Mika                          \n",
      "correct=male     guess=female   name=Mike                          \n",
      "correct=male     guess=female   name=Mitch                         \n",
      "correct=male     guess=female   name=Mitchell                      \n",
      "correct=male     guess=female   name=Moise                         \n",
      "correct=male     guess=female   name=Murdoch                       \n",
      "correct=male     guess=female   name=Murray                        \n",
      "correct=male     guess=female   name=Natale                        \n",
      "correct=male     guess=female   name=Neel                          \n",
      "correct=male     guess=female   name=Neville                       \n",
      "correct=male     guess=female   name=Nickie                        \n",
      "correct=male     guess=female   name=Nikolai                       \n",
      "correct=male     guess=female   name=Odell                         \n",
      "correct=male     guess=female   name=Ozzy                          \n",
      "correct=male     guess=female   name=Pace                          \n",
      "correct=male     guess=female   name=Paddie                        \n",
      "correct=male     guess=female   name=Pail                          \n",
      "correct=male     guess=female   name=Pate                          \n",
      "correct=male     guess=female   name=Patty                         \n",
      "correct=male     guess=female   name=Pennie                        \n",
      "correct=male     guess=female   name=Radcliffe                     \n",
      "correct=male     guess=female   name=Rickie                        \n",
      "correct=male     guess=female   name=Roddy                         \n",
      "correct=male     guess=female   name=Rodney                        \n",
      "correct=male     guess=female   name=Rube                          \n",
      "correct=male     guess=female   name=Ruby                          \n",
      "correct=male     guess=female   name=Rufe                          \n",
      "correct=male     guess=female   name=Rustie                        \n",
      "correct=male     guess=female   name=Rutledge                      \n",
      "correct=male     guess=female   name=Sasha                         \n",
      "correct=male     guess=female   name=Scotty                        \n",
      "correct=male     guess=female   name=See                           \n",
      "correct=male     guess=female   name=Shaine                        \n",
      "correct=male     guess=female   name=Shelley                       \n",
      "correct=male     guess=female   name=Si                            \n",
      "correct=male     guess=female   name=Sidney                        \n",
      "correct=male     guess=female   name=Sloane                        \n",
      "correct=male     guess=female   name=Sol                           \n",
      "correct=male     guess=female   name=Tammy                         \n",
      "correct=male     guess=female   name=Thayne                        \n",
      "correct=male     guess=female   name=Torrence                      \n",
      "correct=male     guess=female   name=Torrey                        \n",
      "correct=male     guess=female   name=Tracie                        \n",
      "correct=male     guess=female   name=Tulley                        \n",
      "correct=male     guess=female   name=Vachel                        \n",
      "correct=male     guess=female   name=Vail                          \n",
      "correct=male     guess=female   name=Vance                         \n",
      "correct=male     guess=female   name=Vasily                        \n",
      "correct=male     guess=female   name=Wash                          \n",
      "correct=male     guess=female   name=Willey                        \n",
      "correct=male     guess=female   name=Willy                         \n",
      "correct=male     guess=female   name=Wylie                         \n",
      "correct=male     guess=female   name=Zacharie                      \n",
      "correct=male     guess=female   name=Zachery                       \n",
      "correct=male     guess=female   name=Zackariah                     \n",
      "correct=male     guess=female   name=Zeke                          \n",
      "correct=male     guess=female   name=Zolly                         \n"
     ]
    }
   ],
   "source": [
    "for (tag, guess, name) in sorted(errors):\n",
    "  print('correct={:<8} guess={:<8s} name={:<30}'.format(tag, guess, name))"
   ]
  },
  {
   "cell_type": "code",
   "execution_count": 34,
   "metadata": {
    "colab": {
     "autoexec": {
      "startup": false,
      "wait_interval": 0
     },
     "base_uri": "https://localhost:8080/",
     "height": 88
    },
    "colab_type": "code",
    "executionInfo": {
     "elapsed": 964,
     "status": "ok",
     "timestamp": 1525189642548,
     "user": {
      "displayName": "Kantinee Kat.",
      "photoUrl": "//lh3.googleusercontent.com/-cTx6FLLpB3o/AAAAAAAAAAI/AAAAAAAAHxE/6Q7cfvbHQJ0/s50-c-k-no/photo.jpg",
      "userId": "112728143482467190932"
     },
     "user_tz": -420
    },
    "id": "3lRZSSxp3K_q",
    "outputId": "0837ad8b-c94b-4e6a-a659-2557e9d5de04"
   },
   "outputs": [
    {
     "name": "stdout",
     "output_type": "stream",
     "text": [
      "       af ah ai al am an ar ay be bs by ce ch dy ed ee eg el en er es et ey ez fe fy ge ha he ie il in ir is it iz jo jy ka ke ko ld le ll ly me my nd ne nn nt ny ol on ou oz pe pp rd re ri ro ry se sh si ss ta te th ty ud ue ul us ve vy yl yn ys zy \n",
      "female  1  0  0  0  1  8  1  0  0  1  0  0  0  0  1  0  1  0  4  3  1  1  0  1  0  0  0  0  0  0  0  7  2  9  2  1  1  0  0  0  2  2  0  0  0  0  0  2  0  4  1  0  0  3  1  1  0  1  1  0  0  1  0  0  0  0  3  0  0  0  0  1  0  0  1  0  0  0 10  2  0 \n",
      "  male  0  2  2  1  0  0  0  5  1  0  2  5  5  5  0  2  0 14  0  0  0  0 15  0  2  1  1  1  1 26  2  0  0  0  0  0  0  1  1  7  0  0  6  5  3  4  3  0  8  0  0  3  1  0  0  0  1  0  0  1  2  0  4  2  2  2  0  1  3  3  3  0  1  1  0  1  1  2  0  0  1 \n"
     ]
    }
   ],
   "source": [
    "cfdist2 = nltk.ConditionalFreqDist()\n",
    "for (tag, guess, name) in errors:\n",
    "  condition = (name[-2:]).lower()\n",
    "  cfdist2[tag][condition] += 1\n",
    "cfdist2.tabulate()\n"
   ]
  },
  {
   "cell_type": "markdown",
   "metadata": {
    "colab_type": "text",
    "id": "iGGkXS5HZlIU"
   },
   "source": [
    "*   Names ending in 'yn' -> female, names ending in 'n' -> male; (last_letter = 'n'             male : female =      2.1 : 1.0)\n",
    "*   Names ending in 'ch' -> male, names ending in 'h' -> female; (last_letter = 'h'             male : female =      1.6 : 1.0)\n"
   ]
  },
  {
   "cell_type": "markdown",
   "metadata": {
    "colab_type": "text",
    "id": "kq2AaU-0bduD"
   },
   "source": [
    "### Rebuilding the classifier with the new feature extractor"
   ]
  },
  {
   "cell_type": "code",
   "execution_count": 38,
   "metadata": {
    "colab": {
     "autoexec": {
      "startup": false,
      "wait_interval": 0
     },
     "base_uri": "https://localhost:8080/",
     "height": 34
    },
    "colab_type": "code",
    "executionInfo": {
     "elapsed": 858,
     "status": "ok",
     "timestamp": 1525190446909,
     "user": {
      "displayName": "Kantinee Kat.",
      "photoUrl": "//lh3.googleusercontent.com/-cTx6FLLpB3o/AAAAAAAAAAI/AAAAAAAAHxE/6Q7cfvbHQJ0/s50-c-k-no/photo.jpg",
      "userId": "112728143482467190932"
     },
     "user_tz": -420
    },
    "id": "bW6orcZPbQkZ",
    "outputId": "57f4304e-18a9-499d-8211-9aec3d425d19"
   },
   "outputs": [
    {
     "data": {
      "text/plain": [
       "{'suffix1': 'g', 'suffix2': 'ng'}"
      ]
     },
     "execution_count": 38,
     "metadata": {
      "tags": []
     },
     "output_type": "execute_result"
    }
   ],
   "source": [
    "def gender_features3(word):\n",
    "  return {'suffix1': word[-1:],'suffix2': word[-2:]}\n",
    "gender_features3('ying')"
   ]
  },
  {
   "cell_type": "code",
   "execution_count": 39,
   "metadata": {
    "colab": {
     "autoexec": {
      "startup": false,
      "wait_interval": 0
     },
     "base_uri": "https://localhost:8080/",
     "height": 34
    },
    "colab_type": "code",
    "executionInfo": {
     "elapsed": 1290,
     "status": "ok",
     "timestamp": 1525190454579,
     "user": {
      "displayName": "Kantinee Kat.",
      "photoUrl": "//lh3.googleusercontent.com/-cTx6FLLpB3o/AAAAAAAAAAI/AAAAAAAAHxE/6Q7cfvbHQJ0/s50-c-k-no/photo.jpg",
      "userId": "112728143482467190932"
     },
     "user_tz": -420
    },
    "id": "P2S0CPwLblNa",
    "outputId": "9bea872e-e2cd-4e6d-c474-2701cd1dd7dd"
   },
   "outputs": [
    {
     "name": "stdout",
     "output_type": "stream",
     "text": [
      "0.772\n"
     ]
    }
   ],
   "source": [
    "train_set = [(gender_features3(n), gender) for (n, gender) in train_names]\n",
    "devtest_set = [(gender_features3(n), gender) for (n, gender) in devtest_names]\n",
    "classifier = nltk.NaiveBayesClassifier.train(train_set)\n",
    "print(nltk.classify.accuracy(classifier, devtest_set))"
   ]
  },
  {
   "cell_type": "code",
   "execution_count": 41,
   "metadata": {
    "colab": {
     "autoexec": {
      "startup": false,
      "wait_interval": 0
     },
     "base_uri": "https://localhost:8080/",
     "height": 34
    },
    "colab_type": "code",
    "executionInfo": {
     "elapsed": 951,
     "status": "ok",
     "timestamp": 1525190609283,
     "user": {
      "displayName": "Kantinee Kat.",
      "photoUrl": "//lh3.googleusercontent.com/-cTx6FLLpB3o/AAAAAAAAAAI/AAAAAAAAHxE/6Q7cfvbHQJ0/s50-c-k-no/photo.jpg",
      "userId": "112728143482467190932"
     },
     "user_tz": -420
    },
    "id": "85wbRANQcPu5",
    "outputId": "766a876c-bb4f-4577-e717-2256fc704d6f"
   },
   "outputs": [
    {
     "name": "stdout",
     "output_type": "stream",
     "text": [
      "0.6\n"
     ]
    }
   ],
   "source": [
    "print(nltk.classify.accuracy(classifier, test_set))"
   ]
  }
 ],
 "metadata": {
  "colab": {
   "collapsed_sections": [],
   "default_view": {},
   "name": "Workshop_Ex1.ipynb",
   "provenance": [],
   "version": "0.3.2",
   "views": {}
  },
  "kernelspec": {
   "display_name": "Python 3",
   "language": "python",
   "name": "python3"
  },
  "language_info": {
   "codemirror_mode": {
    "name": "ipython",
    "version": 3
   },
   "file_extension": ".py",
   "mimetype": "text/x-python",
   "name": "python",
   "nbconvert_exporter": "python",
   "pygments_lexer": "ipython3",
   "version": "3.6.4"
  }
 },
 "nbformat": 4,
 "nbformat_minor": 1
}

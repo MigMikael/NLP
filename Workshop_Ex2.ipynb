{
 "cells": [
  {
   "cell_type": "markdown",
   "metadata": {
    "colab_type": "text",
    "id": "_XnQchRrdhn4"
   },
   "source": [
    "# Ex.2 Document Classification"
   ]
  },
  {
   "cell_type": "markdown",
   "metadata": {
    "colab_type": "text",
    "id": "hDjdm0APdsFI"
   },
   "source": [
    "Build classifiers that will automatically categorizes each review in the Movie Reviews Corpus  as positive or negative."
   ]
  },
  {
   "cell_type": "markdown",
   "metadata": {
    "colab_type": "text",
    "id": "EKydAwwpI4ZG"
   },
   "source": [
    "*   Catagories = 'pos' , 'neg'\n",
    "*   fileids = 'pos/cv001_18431.txt', 'pos/cv002_15918.txt',...\n"
   ]
  },
  {
   "cell_type": "code",
   "execution_count": 16,
   "metadata": {
    "colab": {
     "autoexec": {
      "startup": false,
      "wait_interval": 0
     },
     "base_uri": "https://localhost:8080/",
     "height": 51
    },
    "colab_type": "code",
    "executionInfo": {
     "elapsed": 7392,
     "status": "ok",
     "timestamp": 1525277412318,
     "user": {
      "displayName": "Kantinee Kat.",
      "photoUrl": "//lh3.googleusercontent.com/-cTx6FLLpB3o/AAAAAAAAAAI/AAAAAAAAHxE/6Q7cfvbHQJ0/s50-c-k-no/photo.jpg",
      "userId": "112728143482467190932"
     },
     "user_tz": -420
    },
    "id": "sExeTbaDeYnW",
    "outputId": "d263b945-c617-47cf-a9d6-ef4135a95f71"
   },
   "outputs": [
    {
     "name": "stdout",
     "output_type": "stream",
     "text": [
      "[nltk_data] Downloading package movie_reviews to\n",
      "[nltk_data]     /Users/migmikael/nltk_data...\n",
      "[nltk_data]   Package movie_reviews is already up-to-date!\n"
     ]
    }
   ],
   "source": [
    "import nltk\n",
    "nltk.download('movie_reviews')\n",
    "from nltk.corpus import movie_reviews\n",
    "documents = [(list(movie_reviews.words(fileid)), category)\n",
    "    for category in movie_reviews.categories()\n",
    "    for fileid in movie_reviews.fileids(category)]\n",
    "import random\n",
    "random.shuffle(documents)"
   ]
  },
  {
   "cell_type": "markdown",
   "metadata": {
    "colab_type": "text",
    "id": "oPLTupHLfT-m"
   },
   "source": [
    "**define a feature extractor **\n",
    "*   constructing a list of the 2000 words in the overall corpus.\n",
    "*   checks whether each of these words is present in a given document\n",
    "\n"
   ]
  },
  {
   "cell_type": "code",
   "execution_count": 17,
   "metadata": {
    "colab": {
     "autoexec": {
      "startup": false,
      "wait_interval": 0
     },
     "base_uri": "https://localhost:8080/",
     "height": 54
    },
    "colab_type": "code",
    "executionInfo": {
     "elapsed": 5966,
     "status": "ok",
     "timestamp": 1525277418316,
     "user": {
      "displayName": "Kantinee Kat.",
      "photoUrl": "//lh3.googleusercontent.com/-cTx6FLLpB3o/AAAAAAAAAAI/AAAAAAAAHxE/6Q7cfvbHQJ0/s50-c-k-no/photo.jpg",
      "userId": "112728143482467190932"
     },
     "user_tz": -420
    },
    "id": "m8s1FG1EfVfW",
    "outputId": "1935d212-f738-453e-e373-bb7db2ca03e0"
   },
   "outputs": [],
   "source": [
    "all_words = nltk.FreqDist(w.lower() for w in movie_reviews.words())\n",
    "word_features = list(all_words)[:2000]\n",
    "\n",
    "\n",
    "def document_features(document):\n",
    "  document_words = set(document)\n",
    "  features = {}\n",
    "  for word in word_features:\n",
    "    features['contains({})'.format(word)] = (word in document_words)\n",
    "  return features\n",
    "\n",
    "#print(document_features(movie_reviews.words('pos/cv957_8737.txt')))\n"
   ]
  },
  {
   "cell_type": "code",
   "execution_count": 18,
   "metadata": {
    "colab": {
     "autoexec": {
      "startup": false,
      "wait_interval": 0
     }
    },
    "colab_type": "code",
    "id": "T44SfrYdgGyO"
   },
   "outputs": [],
   "source": [
    "featuresets = [(document_features(d), c) for (d,c) in documents]\n",
    "train_set, test_set = featuresets[100:], featuresets[:100]\n",
    "classifier = nltk.NaiveBayesClassifier.train(train_set)"
   ]
  },
  {
   "cell_type": "code",
   "execution_count": 19,
   "metadata": {
    "colab": {
     "autoexec": {
      "startup": false,
      "wait_interval": 0
     },
     "base_uri": "https://localhost:8080/",
     "height": 34
    },
    "colab_type": "code",
    "executionInfo": {
     "elapsed": 1610,
     "status": "ok",
     "timestamp": 1525277430834,
     "user": {
      "displayName": "Kantinee Kat.",
      "photoUrl": "//lh3.googleusercontent.com/-cTx6FLLpB3o/AAAAAAAAAAI/AAAAAAAAHxE/6Q7cfvbHQJ0/s50-c-k-no/photo.jpg",
      "userId": "112728143482467190932"
     },
     "user_tz": -420
    },
    "id": "bB_bwDPPgJ62",
    "outputId": "f24a1269-7e7a-4647-a184-d60028d47219"
   },
   "outputs": [
    {
     "name": "stdout",
     "output_type": "stream",
     "text": [
      "0.81\n"
     ]
    }
   ],
   "source": [
    "print(nltk.classify.accuracy(classifier, test_set))"
   ]
  },
  {
   "cell_type": "code",
   "execution_count": 20,
   "metadata": {
    "colab": {
     "autoexec": {
      "startup": false,
      "wait_interval": 0
     },
     "base_uri": "https://localhost:8080/",
     "height": 119
    },
    "colab_type": "code",
    "executionInfo": {
     "elapsed": 1067,
     "status": "ok",
     "timestamp": 1525277431972,
     "user": {
      "displayName": "Kantinee Kat.",
      "photoUrl": "//lh3.googleusercontent.com/-cTx6FLLpB3o/AAAAAAAAAAI/AAAAAAAAHxE/6Q7cfvbHQJ0/s50-c-k-no/photo.jpg",
      "userId": "112728143482467190932"
     },
     "user_tz": -420
    },
    "id": "pvOqHHXGgMwv",
    "outputId": "375b672d-0f29-479b-c666-33fe80b358a0"
   },
   "outputs": [
    {
     "name": "stdout",
     "output_type": "stream",
     "text": [
      "Most Informative Features\n",
      "    contains(schumacher) = True              neg : pos    =     11.0 : 1.0\n",
      " contains(unimaginative) = True              neg : pos    =      8.4 : 1.0\n",
      "        contains(welles) = True              neg : pos    =      7.7 : 1.0\n",
      "        contains(shoddy) = True              neg : pos    =      7.0 : 1.0\n",
      "     contains(atrocious) = True              neg : pos    =      7.0 : 1.0\n"
     ]
    }
   ],
   "source": [
    "classifier.show_most_informative_features(5)"
   ]
  },
  {
   "cell_type": "markdown",
   "metadata": {
    "colab_type": "text",
    "id": "j_r7iIbboPkJ"
   },
   "source": [
    "a review that mentions \"unimaginative\" is almost 8 times more likely to be negative than positive."
   ]
  }
 ],
 "metadata": {
  "colab": {
   "collapsed_sections": [],
   "default_view": {},
   "name": "Workshop_Ex2.ipynb",
   "provenance": [],
   "version": "0.3.2",
   "views": {}
  },
  "kernelspec": {
   "display_name": "Python 3",
   "language": "python",
   "name": "python3"
  },
  "language_info": {
   "codemirror_mode": {
    "name": "ipython",
    "version": 3
   },
   "file_extension": ".py",
   "mimetype": "text/x-python",
   "name": "python",
   "nbconvert_exporter": "python",
   "pygments_lexer": "ipython3",
   "version": "3.6.4"
  }
 },
 "nbformat": 4,
 "nbformat_minor": 1
}
